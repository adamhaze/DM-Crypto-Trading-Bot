{
 "cells": [
  {
   "cell_type": "code",
   "execution_count": 1,
   "metadata": {},
   "outputs": [
    {
     "ename": "ModuleNotFoundError",
     "evalue": "No module named 'mysql'",
     "output_type": "error",
     "traceback": [
      "\u001b[0;31m---------------------------------------------------------------------------\u001b[0m",
      "\u001b[0;31mModuleNotFoundError\u001b[0m                       Traceback (most recent call last)",
      "\u001b[0;32m<ipython-input-1-f3a09c2555ba>\u001b[0m in \u001b[0;36m<module>\u001b[0;34m\u001b[0m\n\u001b[1;32m      1\u001b[0m \u001b[0;32mimport\u001b[0m \u001b[0mpandas\u001b[0m \u001b[0;32mas\u001b[0m \u001b[0mpd\u001b[0m\u001b[0;34m\u001b[0m\u001b[0;34m\u001b[0m\u001b[0m\n\u001b[1;32m      2\u001b[0m \u001b[0;32mimport\u001b[0m \u001b[0mos\u001b[0m\u001b[0;34m\u001b[0m\u001b[0;34m\u001b[0m\u001b[0m\n\u001b[0;32m----> 3\u001b[0;31m \u001b[0;32mimport\u001b[0m \u001b[0mmysql\u001b[0m\u001b[0;34m.\u001b[0m\u001b[0mconnector\u001b[0m\u001b[0;34m\u001b[0m\u001b[0;34m\u001b[0m\u001b[0m\n\u001b[0m\u001b[1;32m      4\u001b[0m \u001b[0;32mfrom\u001b[0m \u001b[0mmysql\u001b[0m\u001b[0;34m.\u001b[0m\u001b[0mconnector\u001b[0m \u001b[0;32mimport\u001b[0m \u001b[0mError\u001b[0m\u001b[0;34m\u001b[0m\u001b[0;34m\u001b[0m\u001b[0m\n\u001b[1;32m      5\u001b[0m \u001b[0;32mfrom\u001b[0m \u001b[0msqlalchemy\u001b[0m \u001b[0;32mimport\u001b[0m \u001b[0mcreate_engine\u001b[0m\u001b[0;34m\u001b[0m\u001b[0;34m\u001b[0m\u001b[0m\n",
      "\u001b[0;31mModuleNotFoundError\u001b[0m: No module named 'mysql'"
     ]
    }
   ],
   "source": [
    "import pandas as pd\n",
    "import os\n",
    "import mysql.connector\n",
    "from mysql.connector import Error\n",
    "from sqlalchemy import create_engine"
   ]
  },
  {
   "cell_type": "code",
   "execution_count": 3,
   "metadata": {},
   "outputs": [
    {
     "name": "stdout",
     "output_type": "stream",
     "text": [
      "{'HOST': '64.20.33.250', 'DB': 'st19945_tickerData', 'USER': 'st19945_tickerData', 'PASSWORD': 'CU2021'}\n"
     ]
    }
   ],
   "source": [
    "# Load ENV Files\n",
    "env_vars = {} # or dict {}\n",
    "with open('env.txt') as f:\n",
    "    for line in f:\n",
    "        if line.startswith('#') or not line.strip():\n",
    "            continue\n",
    "        key, value = line.strip().split('=', 1)\n",
    "        env_vars[key]= value\n",
    "print(env_vars)"
   ]
  },
  {
   "cell_type": "code",
   "execution_count": 4,
   "metadata": {},
   "outputs": [
    {
     "name": "stdout",
     "output_type": "stream",
     "text": [
      "Connected to MySQL Server version  5.5.5-10.4.21-MariaDB\n",
      "You're connected to database:  ('st19945_tickerData',)\n",
      "MySQL connection is closed\n"
     ]
    }
   ],
   "source": [
    "# Run this Cell to ensure connected to DB\n",
    "try:\n",
    "    connection = mysql.connector.connect(host=env_vars['HOST'],\n",
    "                                         database=env_vars['DB'],\n",
    "                                         user=env_vars['USER'],\n",
    "                                         password=env_vars['PASSWORD'])\n",
    "    if connection.is_connected():\n",
    "        db_Info = connection.get_server_info()\n",
    "        print(\"Connected to MySQL Server version \", db_Info)\n",
    "        cursor = connection.cursor()\n",
    "        cursor.execute(\"select database();\")\n",
    "        record = cursor.fetchone()\n",
    "        print(\"You're connected to database: \", record)\n",
    "\n",
    "except Error as e:\n",
    "    print(\"Error while connecting to MySQL\", e)\n",
    "finally:\n",
    "    if connection.is_connected():\n",
    "        cursor.close()\n",
    "        connection.close()\n",
    "        print(\"MySQL connection is closed\")"
   ]
  },
  {
   "cell_type": "markdown",
   "metadata": {},
   "source": [
    "****\n",
    "Pulling Data from SQL and converting to csv "
   ]
  },
  {
   "cell_type": "code",
   "execution_count": 17,
   "metadata": {},
   "outputs": [],
   "source": [
    "# create sqlalchemy engine\n",
    "engine = create_engine(\"mysql+pymysql://{user}:{pw}@{host}/{db}\"\n",
    "                       .format(user=env_vars['USER'],\n",
    "                               pw=env_vars['PASSWORD'],\n",
    "                               host=env_vars['HOST'],\n",
    "                               db=env_vars['DB']))"
   ]
  },
  {
   "cell_type": "code",
   "execution_count": 26,
   "metadata": {},
   "outputs": [],
   "source": [
    "df = pd.read_sql_table('BTC_Ticker_Data', con=engine, index_col='index')\n",
    "df.to_csv('Master_Data_File.csv', index=True)"
   ]
  },
  {
   "cell_type": "markdown",
   "metadata": {},
   "source": [
    "Reading Data from CSV into pandas Dataframe"
   ]
  },
  {
   "cell_type": "code",
   "execution_count": 30,
   "metadata": {},
   "outputs": [
    {
     "data": {
      "text/html": [
       "<div>\n",
       "<style scoped>\n",
       "    .dataframe tbody tr th:only-of-type {\n",
       "        vertical-align: middle;\n",
       "    }\n",
       "\n",
       "    .dataframe tbody tr th {\n",
       "        vertical-align: top;\n",
       "    }\n",
       "\n",
       "    .dataframe thead th {\n",
       "        text-align: right;\n",
       "    }\n",
       "</style>\n",
       "<table border=\"1\" class=\"dataframe\">\n",
       "  <thead>\n",
       "    <tr style=\"text-align: right;\">\n",
       "      <th></th>\n",
       "      <th>Unix Timestamp</th>\n",
       "      <th>Date</th>\n",
       "      <th>Symbol</th>\n",
       "      <th>Open</th>\n",
       "      <th>High</th>\n",
       "      <th>Low</th>\n",
       "      <th>Close</th>\n",
       "      <th>Volume</th>\n",
       "    </tr>\n",
       "    <tr>\n",
       "      <th>index</th>\n",
       "      <th></th>\n",
       "      <th></th>\n",
       "      <th></th>\n",
       "      <th></th>\n",
       "      <th></th>\n",
       "      <th></th>\n",
       "      <th></th>\n",
       "      <th></th>\n",
       "    </tr>\n",
       "  </thead>\n",
       "  <tbody>\n",
       "    <tr>\n",
       "      <th>0</th>\n",
       "      <td>1444311600</td>\n",
       "      <td>2015-10-08 13:40:00</td>\n",
       "      <td>BTCUSD</td>\n",
       "      <td>0.00</td>\n",
       "      <td>242.50</td>\n",
       "      <td>0.00</td>\n",
       "      <td>242.50</td>\n",
       "      <td>0.050000</td>\n",
       "    </tr>\n",
       "    <tr>\n",
       "      <th>1</th>\n",
       "      <td>1444311660</td>\n",
       "      <td>2015-10-08 13:41:00</td>\n",
       "      <td>BTCUSD</td>\n",
       "      <td>242.50</td>\n",
       "      <td>242.95</td>\n",
       "      <td>242.50</td>\n",
       "      <td>242.95</td>\n",
       "      <td>0.001000</td>\n",
       "    </tr>\n",
       "    <tr>\n",
       "      <th>2</th>\n",
       "      <td>1444311720</td>\n",
       "      <td>2015-10-08 13:42:00</td>\n",
       "      <td>BTCUSD</td>\n",
       "      <td>242.95</td>\n",
       "      <td>242.95</td>\n",
       "      <td>242.95</td>\n",
       "      <td>242.95</td>\n",
       "      <td>0.000000</td>\n",
       "    </tr>\n",
       "    <tr>\n",
       "      <th>3</th>\n",
       "      <td>1444311780</td>\n",
       "      <td>2015-10-08 13:43:00</td>\n",
       "      <td>BTCUSD</td>\n",
       "      <td>242.95</td>\n",
       "      <td>242.96</td>\n",
       "      <td>242.95</td>\n",
       "      <td>242.96</td>\n",
       "      <td>0.010000</td>\n",
       "    </tr>\n",
       "    <tr>\n",
       "      <th>4</th>\n",
       "      <td>1444311840</td>\n",
       "      <td>2015-10-08 13:44:00</td>\n",
       "      <td>BTCUSD</td>\n",
       "      <td>242.96</td>\n",
       "      <td>242.96</td>\n",
       "      <td>242.96</td>\n",
       "      <td>242.96</td>\n",
       "      <td>0.033491</td>\n",
       "    </tr>\n",
       "    <tr>\n",
       "      <th>...</th>\n",
       "      <td>...</td>\n",
       "      <td>...</td>\n",
       "      <td>...</td>\n",
       "      <td>...</td>\n",
       "      <td>...</td>\n",
       "      <td>...</td>\n",
       "      <td>...</td>\n",
       "      <td>...</td>\n",
       "    </tr>\n",
       "    <tr>\n",
       "      <th>3063873</th>\n",
       "      <td>1634428860000</td>\n",
       "      <td>2021-10-17 00:01:00</td>\n",
       "      <td>BTCUSD</td>\n",
       "      <td>60877.53</td>\n",
       "      <td>60877.53</td>\n",
       "      <td>60851.85</td>\n",
       "      <td>60875.98</td>\n",
       "      <td>0.182190</td>\n",
       "    </tr>\n",
       "    <tr>\n",
       "      <th>3063874</th>\n",
       "      <td>1634428920000</td>\n",
       "      <td>2021-10-17 00:02:00</td>\n",
       "      <td>BTCUSD</td>\n",
       "      <td>60875.98</td>\n",
       "      <td>60937.30</td>\n",
       "      <td>60854.84</td>\n",
       "      <td>60922.25</td>\n",
       "      <td>1.135391</td>\n",
       "    </tr>\n",
       "    <tr>\n",
       "      <th>3063875</th>\n",
       "      <td>1634428980000</td>\n",
       "      <td>2021-10-17 00:03:00</td>\n",
       "      <td>BTCUSD</td>\n",
       "      <td>60922.25</td>\n",
       "      <td>60925.99</td>\n",
       "      <td>60809.75</td>\n",
       "      <td>60809.75</td>\n",
       "      <td>0.108527</td>\n",
       "    </tr>\n",
       "    <tr>\n",
       "      <th>3063876</th>\n",
       "      <td>1634429040000</td>\n",
       "      <td>2021-10-17 00:04:00</td>\n",
       "      <td>BTCUSD</td>\n",
       "      <td>60809.75</td>\n",
       "      <td>60829.33</td>\n",
       "      <td>60716.28</td>\n",
       "      <td>60716.28</td>\n",
       "      <td>0.216773</td>\n",
       "    </tr>\n",
       "    <tr>\n",
       "      <th>3063877</th>\n",
       "      <td>1634429100000</td>\n",
       "      <td>2021-10-17 00:05:00</td>\n",
       "      <td>BTCUSD</td>\n",
       "      <td>60716.28</td>\n",
       "      <td>60716.28</td>\n",
       "      <td>60712.32</td>\n",
       "      <td>60715.55</td>\n",
       "      <td>0.022586</td>\n",
       "    </tr>\n",
       "  </tbody>\n",
       "</table>\n",
       "<p>3063878 rows × 8 columns</p>\n",
       "</div>"
      ],
      "text/plain": [
       "         Unix Timestamp                 Date  Symbol      Open      High  \\\n",
       "index                                                                      \n",
       "0            1444311600  2015-10-08 13:40:00  BTCUSD      0.00    242.50   \n",
       "1            1444311660  2015-10-08 13:41:00  BTCUSD    242.50    242.95   \n",
       "2            1444311720  2015-10-08 13:42:00  BTCUSD    242.95    242.95   \n",
       "3            1444311780  2015-10-08 13:43:00  BTCUSD    242.95    242.96   \n",
       "4            1444311840  2015-10-08 13:44:00  BTCUSD    242.96    242.96   \n",
       "...                 ...                  ...     ...       ...       ...   \n",
       "3063873   1634428860000  2021-10-17 00:01:00  BTCUSD  60877.53  60877.53   \n",
       "3063874   1634428920000  2021-10-17 00:02:00  BTCUSD  60875.98  60937.30   \n",
       "3063875   1634428980000  2021-10-17 00:03:00  BTCUSD  60922.25  60925.99   \n",
       "3063876   1634429040000  2021-10-17 00:04:00  BTCUSD  60809.75  60829.33   \n",
       "3063877   1634429100000  2021-10-17 00:05:00  BTCUSD  60716.28  60716.28   \n",
       "\n",
       "              Low     Close    Volume  \n",
       "index                                  \n",
       "0            0.00    242.50  0.050000  \n",
       "1          242.50    242.95  0.001000  \n",
       "2          242.95    242.95  0.000000  \n",
       "3          242.95    242.96  0.010000  \n",
       "4          242.96    242.96  0.033491  \n",
       "...           ...       ...       ...  \n",
       "3063873  60851.85  60875.98  0.182190  \n",
       "3063874  60854.84  60922.25  1.135391  \n",
       "3063875  60809.75  60809.75  0.108527  \n",
       "3063876  60716.28  60716.28  0.216773  \n",
       "3063877  60712.32  60715.55  0.022586  \n",
       "\n",
       "[3063878 rows x 8 columns]"
      ]
     },
     "execution_count": 30,
     "metadata": {},
     "output_type": "execute_result"
    }
   ],
   "source": [
    "MasterData = pd.read_csv('Master_Data_File.csv')\n",
    "MasterData.set_index('index')"
   ]
  },
  {
   "cell_type": "markdown",
   "metadata": {},
   "source": [
    "Then Start working on the project"
   ]
  },
  {
   "cell_type": "code",
   "execution_count": null,
   "metadata": {},
   "outputs": [],
   "source": []
  }
 ],
 "metadata": {
  "kernelspec": {
   "display_name": "Python 3",
   "language": "python",
   "name": "python3"
  },
  "language_info": {
   "codemirror_mode": {
    "name": "ipython",
    "version": 3
   },
   "file_extension": ".py",
   "mimetype": "text/x-python",
   "name": "python",
   "nbconvert_exporter": "python",
   "pygments_lexer": "ipython3",
   "version": "3.8.8"
  }
 },
 "nbformat": 4,
 "nbformat_minor": 4
}

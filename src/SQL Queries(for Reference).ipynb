{
 "cells": [
  {
   "cell_type": "code",
   "execution_count": 1,
   "metadata": {},
   "outputs": [],
   "source": [
    "import pandas as pd\n",
    "import os\n",
    "import mysql.connector\n",
    "from mysql.connector import Error\n",
    "from sqlalchemy import create_engine"
   ]
  },
  {
   "cell_type": "code",
   "execution_count": 2,
   "metadata": {},
   "outputs": [
    {
     "name": "stdout",
     "output_type": "stream",
     "text": [
      "{'HOST': '64.20.33.250', 'DB': 'st19945_tickerData', 'USER': 'st19945_tickerData', 'PASSWORD': 'CU2021'}\n"
     ]
    }
   ],
   "source": [
    "# load ENV values \n",
    "# for getting ENv vars \n",
    "env_vars = {} # or dict {}\n",
    "with open('env.txt') as f:\n",
    "    for line in f:\n",
    "        if line.startswith('#') or not line.strip():\n",
    "            continue\n",
    "        key, value = line.strip().split('=', 1)\n",
    "        env_vars[key]= value\n",
    "print(env_vars)"
   ]
  },
  {
   "cell_type": "markdown",
   "metadata": {},
   "source": [
    "Gets the last Item in the table "
   ]
  },
  {
   "cell_type": "code",
   "execution_count": 4,
   "metadata": {},
   "outputs": [
    {
     "name": "stdout",
     "output_type": "stream",
     "text": [
      "Total number of rows in return:  1\n",
      "\n",
      "\n",
      "[(3063877, '1634429100000', datetime.datetime(2021, 10, 17, 0, 5), 'BTCUSD', Decimal('60716.28000'), Decimal('60716.28000'), Decimal('60712.32000'), Decimal('60715.55000'), Decimal('0.02258644'))]\n",
      "MySQL connection is closed\n"
     ]
    }
   ],
   "source": [
    "try:\n",
    "    connection = mysql.connector.connect(host=env_vars['HOST'],\n",
    "                                         database=env_vars['DB'],\n",
    "                                         user=env_vars['USER'],\n",
    "                                         password=env_vars['PASSWORD'])\n",
    "    sql_select_Query = \"SELECT * FROM BTC_Ticker_Data WHERE `index`=(SELECT max(`index`) FROM BTC_Ticker_Data);\"\n",
    "    cursor = connection.cursor()\n",
    "    cursor.execute(sql_select_Query)\n",
    "    # get all records\n",
    "    records = cursor.fetchall()\n",
    "    print(\"Total number of rows in return: \", cursor.rowcount)\n",
    "    print('\\n')\n",
    "    print(records)\n",
    "    cursor.close()\n",
    "\n",
    "except mysql.connector.Error as error:\n",
    "    print(\"Failed to insert record into Laptop table {}\".format(error))\n",
    "\n",
    "finally:\n",
    "    if connection.is_connected():\n",
    "        connection.close()\n",
    "        print(\"MySQL connection is closed\")"
   ]
  },
  {
   "cell_type": "markdown",
   "metadata": {},
   "source": [
    "Gets the total Number of items in table "
   ]
  },
  {
   "cell_type": "code",
   "execution_count": 5,
   "metadata": {},
   "outputs": [
    {
     "name": "stdout",
     "output_type": "stream",
     "text": [
      "Total number of rows in return:  1\n",
      "\n",
      "\n",
      "[(3063878,)]\n",
      "MySQL connection is closed\n"
     ]
    }
   ],
   "source": [
    "try:\n",
    "    connection = mysql.connector.connect(host=env_vars['HOST'],\n",
    "                                         database=env_vars['DB'],\n",
    "                                         user=env_vars['USER'],\n",
    "                                         password=env_vars['PASSWORD'])\n",
    "    sql_select_Query = \"SELECT COUNT(*) from BTC_Ticker_Data;\"\n",
    "    cursor = connection.cursor()\n",
    "    cursor.execute(sql_select_Query)\n",
    "    # get all records\n",
    "    records = cursor.fetchall()\n",
    "    print(\"Total number of rows in return: \", cursor.rowcount)\n",
    "    print('\\n')\n",
    "    print(records)\n",
    "    cursor.close()\n",
    "\n",
    "except mysql.connector.Error as error:\n",
    "    print(\"Failed to insert record into Laptop table {}\".format(error))\n",
    "\n",
    "finally:\n",
    "    if connection.is_connected():\n",
    "        connection.close()\n",
    "        print(\"MySQL connection is closed\")"
   ]
  },
  {
   "cell_type": "markdown",
   "metadata": {},
   "source": [
    "********************************************************************************************\n",
    "\n",
    "For Pushing new rows to DB"
   ]
  },
  {
   "cell_type": "code",
   "execution_count": null,
   "metadata": {},
   "outputs": [],
   "source": [
    "################################################\n",
    "# Do not run unless you know what you are doing\n",
    "################################################\n",
    "# creating column list for insertion\n",
    "cols = \"`,`\".join([str(i) for i in data_frame.columns.tolist()])\n",
    "\n",
    "\n",
    "\n",
    "try:\n",
    "    connection = mysql.connector.connect(host=env_vars['HOST'],\n",
    "                                         database=env_vars['DB'],\n",
    "                                         user=env_vars['USER'],\n",
    "                                         password=env_vars['PASSWORD'])\n",
    "    # Insert DataFrame recrds one by one.\n",
    "    for i,row in data.iterrows():\n",
    "        sql = \"INSERT INTO `book_details` (`\" +cols + \"`) VALUES (\" + \"%s,\"*(len(row)-1) + \"%s)\"\n",
    "        cursor.execute(sql, tuple(row))\n",
    "\n",
    "    connection.commit()\n",
    "   \n",
    "    print(cursor.rowcount, \"Record inserted successfully into table\")\n",
    "    cursor.close()\n",
    "\n",
    "except mysql.connector.Error as error:\n",
    "    print(\"Failed to insert record into Laptop table {}\".format(error))\n",
    "\n",
    "finally:\n",
    "    if connection.is_connected():\n",
    "        connection.close()\n",
    "        print(\"MySQL connection is closed\")"
   ]
  },
  {
   "cell_type": "markdown",
   "metadata": {},
   "source": [
    "********************************************************************************************\n",
    "The following is used for inserting 1 record at a time into SQL database.   \n",
    "\n",
    "The example shown is the query used to populate the test Db Table "
   ]
  },
  {
   "cell_type": "code",
   "execution_count": null,
   "metadata": {},
   "outputs": [],
   "source": [
    "################################################\n",
    "# Do not run unless you know what you are doing\n",
    "################################################\n",
    "# creating column list for insertion\n",
    "cols = ['index','Unix Timestamp','Date','Symbol','Open','High','Low','Close','Volume']\n",
    "test_data = data_frame[0:25]\n",
    "try:\n",
    "    connection = mysql.connector.connect(host=env_vars['HOST'],\n",
    "                                         database=env_vars['DB'],\n",
    "                                         user=env_vars['USER'],\n",
    "                                         password=env_vars['PASSWORD'])\n",
    "    cursor = connection.cursor()\n",
    "    \n",
    "    # Insert DataFrame recrds one by one.\n",
    "    for index in test_data.index:\n",
    "        sql = \"INSERT INTO `BTC_Ticker_Data_Test` (`index`, `Unix Timestamp`, `Date`, `Symbol`, `Open`, `High`, `Low`, `Close`, `Volume`) VALUES (\" + \"%s,\"*(len(cols)-1) + \"%s)\"\n",
    "        row=(index,str(test_data['Unix Timestamp'][index]),test_data['Date'][index],test_data['Symbol'][index],str(test_data['Open'][index]),str(test_data['High'][index]),str(test_data['Low'][index]),str(test_data['Close'][index]),str(test_data['Volume'][index]))\n",
    "\n",
    "        cursor.execute(sql, row)\n",
    "\n",
    "    connection.commit()\n",
    "   \n",
    "    print(cursor.rowcount, \"Record inserted successfully into table\")\n",
    "    cursor.close()\n",
    "\n",
    "except mysql.connector.Error as error:\n",
    "    print(\"Failed to insert record into table {}\".format(error))\n",
    "\n",
    "finally:\n",
    "    if connection.is_connected():\n",
    "        connection.close()\n",
    "        print(\"MySQL connection is closed\")"
   ]
  }
 ],
 "metadata": {
  "kernelspec": {
   "display_name": "Python 3",
   "language": "python",
   "name": "python3"
  },
  "language_info": {
   "codemirror_mode": {
    "name": "ipython",
    "version": 3
   },
   "file_extension": ".py",
   "mimetype": "text/x-python",
   "name": "python",
   "nbconvert_exporter": "python",
   "pygments_lexer": "ipython3",
   "version": "3.8.5"
  }
 },
 "nbformat": 4,
 "nbformat_minor": 4
}
